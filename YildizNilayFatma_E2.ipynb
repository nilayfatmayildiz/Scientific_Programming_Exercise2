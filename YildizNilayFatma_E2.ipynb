{
 "cells": [
  {
   "cell_type": "markdown",
   "id": "472c97aa",
   "metadata": {},
   "source": [
    "# 4 Lists"
   ]
  },
  {
   "cell_type": "markdown",
   "id": "a27ab627",
   "metadata": {},
   "source": [
    "### Exercise 4.1: Short questions"
   ]
  },
  {
   "cell_type": "code",
   "execution_count": 1,
   "id": "28ed915e",
   "metadata": {},
   "outputs": [
    {
     "name": "stdout",
     "output_type": "stream",
     "text": [
      "a\n",
      "b\n",
      "c\n"
     ]
    }
   ],
   "source": [
    "#a)Write a function that prints the elements of a list\n",
    "def print_list(list):\n",
    "    for element in list:\n",
    "        print(element)\n",
    "        \n",
    "lst = [\"a\",\"b\",\"c\"]\n",
    "print_list(lst)"
   ]
  },
  {
   "cell_type": "code",
   "execution_count": 2,
   "id": "e3641550",
   "metadata": {},
   "outputs": [
    {
     "name": "stdout",
     "output_type": "stream",
     "text": [
      "[6, 5, 4, 3, 2, 1]\n"
     ]
    }
   ],
   "source": [
    "#b)Write a function that prints the elements of a list in reverse\n",
    "def reverse_list(list):\n",
    "    new_list = list[::-1]\n",
    "    return new_list\n",
    "     \n",
    "lst = [1, 2, 3, 4, 5, 6]\n",
    "print(reverse_list(lst))"
   ]
  },
  {
   "cell_type": "code",
   "execution_count": 3,
   "id": "b7045f23",
   "metadata": {},
   "outputs": [
    {
     "data": {
      "text/plain": [
       "5"
      ]
     },
     "execution_count": 3,
     "metadata": {},
     "output_type": "execute_result"
    }
   ],
   "source": [
    "#c)Write your own implementation of the len function that returns the number of elements in a list.\n",
    "def length_list(list):\n",
    "    # Initialize count to zero \n",
    "    count = 0\n",
    "    for i in list:\n",
    "        count = count + 1\n",
    "    return count\n",
    "\n",
    "lst = [1,2,3,4,5]\n",
    "length_list(lst)"
   ]
  },
  {
   "cell_type": "markdown",
   "id": "4a8f544f",
   "metadata": {},
   "source": [
    "### Exercise 4.2: Copying lists"
   ]
  },
  {
   "cell_type": "code",
   "execution_count": 4,
   "id": "964b2d5d",
   "metadata": {},
   "outputs": [],
   "source": [
    "#a)Create a list a with some entries.\n",
    "a = [1,2,3,4,5,6]"
   ]
  },
  {
   "cell_type": "code",
   "execution_count": 5,
   "id": "cf971b73",
   "metadata": {},
   "outputs": [],
   "source": [
    "#b)Now set b = a\n",
    "b = a"
   ]
  },
  {
   "cell_type": "code",
   "execution_count": 6,
   "id": "b2bef63d",
   "metadata": {},
   "outputs": [],
   "source": [
    "#c) Change b[1]\n",
    "b[1] = 34765"
   ]
  },
  {
   "cell_type": "code",
   "execution_count": 7,
   "id": "2f5fc203",
   "metadata": {},
   "outputs": [
    {
     "data": {
      "text/plain": [
       "[1, 34765, 3, 4, 5, 6]"
      ]
     },
     "execution_count": 7,
     "metadata": {},
     "output_type": "execute_result"
    }
   ],
   "source": [
    "#d)What happened to a?\n",
    "#a[1] changed.\n",
    "a"
   ]
  },
  {
   "cell_type": "code",
   "execution_count": 8,
   "id": "cf9329b2",
   "metadata": {},
   "outputs": [],
   "source": [
    "#e)Now set c = a[:]\n",
    "c = a[:]"
   ]
  },
  {
   "cell_type": "code",
   "execution_count": 9,
   "id": "16c97333",
   "metadata": {},
   "outputs": [],
   "source": [
    "#f)Change c[2]\n",
    "c[2] = 0"
   ]
  },
  {
   "cell_type": "code",
   "execution_count": 10,
   "id": "5b203787",
   "metadata": {},
   "outputs": [
    {
     "data": {
      "text/plain": [
       "[1, 34765, 3, 4, 5, 6]"
      ]
     },
     "execution_count": 10,
     "metadata": {},
     "output_type": "execute_result"
    }
   ],
   "source": [
    "#g)What happened to a?\n",
    "#a didn't change for this time.\n",
    "a"
   ]
  },
  {
   "cell_type": "code",
   "execution_count": 11,
   "id": "18cbae73",
   "metadata": {},
   "outputs": [],
   "source": [
    "#Now create a function set_first_elem_to_zero(l) that takes a list, sets its first entry to zero, and returns the list.\n",
    "\n",
    "def set_first_elem_to_zero(list):\n",
    "    list[0] = 0\n",
    "    return list"
   ]
  },
  {
   "cell_type": "code",
   "execution_count": 12,
   "id": "599c040d",
   "metadata": {},
   "outputs": [
    {
     "data": {
      "text/plain": [
       "[0, 264, 342]"
      ]
     },
     "execution_count": 12,
     "metadata": {},
     "output_type": "execute_result"
    }
   ],
   "source": [
    "#What happens to the original list?\n",
    "lst = [174, 264, 342]\n",
    "\n",
    "set_first_elem_to_zero(lst)\n",
    "\n",
    "#The original list changed, the first element became 0."
   ]
  },
  {
   "cell_type": "markdown",
   "id": "ed259502",
   "metadata": {},
   "source": [
    "### Exercise 4.3: Lists of lists"
   ]
  },
  {
   "cell_type": "code",
   "execution_count": 13,
   "id": "e239642d",
   "metadata": {},
   "outputs": [
    {
     "name": "stdout",
     "output_type": "stream",
     "text": [
      "a:  [[], [], []]\n",
      "b:  [[], [], []]\n"
     ]
    }
   ],
   "source": [
    "#What is the difference between a and b:\n",
    "#xrange has became range with python3.\n",
    "a = [[]] * 3\n",
    "b = [[] for _ in range(3)]\n",
    "\n",
    "print(\"a: \", a)\n",
    "print(\"b: \", b)\n",
    "#There is no difference. They are equivalent."
   ]
  },
  {
   "cell_type": "markdown",
   "id": "f2fa43a1",
   "metadata": {},
   "source": [
    "### Exercise 4.4: Lists and functions"
   ]
  },
  {
   "cell_type": "code",
   "execution_count": 14,
   "id": "c0800dcb",
   "metadata": {},
   "outputs": [
    {
     "data": {
      "text/plain": [
       "['a', 'b', 0]"
      ]
     },
     "execution_count": 14,
     "metadata": {},
     "output_type": "execute_result"
    }
   ],
   "source": [
    "#Write a function that takes a list and an index, and sets the value of the list at the given index to 0.\n",
    "def setIndexToZero(list, index):\n",
    "    list[index] = 0\n",
    "    return list\n",
    "\n",
    "lst = [\"a\", \"b\", \"c\"]\n",
    "setIndexToZero(lst,2)"
   ]
  },
  {
   "cell_type": "markdown",
   "id": "c17a2dbe",
   "metadata": {},
   "source": [
    "### Exercise 4.5: Primes"
   ]
  },
  {
   "cell_type": "markdown",
   "id": "4320f392",
   "metadata": {},
   "source": [
    "In Section 3 you wrote a function that prints all primes up to n, and a function that prints the first n primes. Update these functions such that they return lists instead.\n"
   ]
  },
  {
   "cell_type": "code",
   "execution_count": 15,
   "id": "ba407363",
   "metadata": {},
   "outputs": [
    {
     "data": {
      "text/plain": [
       "[2, 3, 5, 7, 11, 13]"
      ]
     },
     "execution_count": 15,
     "metadata": {},
     "output_type": "execute_result"
    }
   ],
   "source": [
    "#is_prime function from previous exercise.\n",
    "def is_prime(n):\n",
    "    if n > 1:  \n",
    "        for i in range(2,n):  \n",
    "            if (n % i) == 0:  \n",
    "                return False\n",
    "        return True\n",
    "    else:\n",
    "        return False\n",
    "    \n",
    "##Updated function for list\n",
    "#prints all primes up to n\n",
    "def all_primes(n):\n",
    "    lst = []\n",
    "    for i in range (2, n):\n",
    "        if (is_prime(i)):\n",
    "            lst.append(i)\n",
    "    return lst\n",
    "            \n",
    "all_primes(14)"
   ]
  },
  {
   "cell_type": "code",
   "execution_count": 16,
   "id": "9a675645",
   "metadata": {},
   "outputs": [
    {
     "data": {
      "text/plain": [
       "[2, 3, 5, 7, 11, 13, 17, 19, 23, 29, 31, 37, 41, 43]"
      ]
     },
     "execution_count": 16,
     "metadata": {},
     "output_type": "execute_result"
    }
   ],
   "source": [
    "#Updated function for list\n",
    "#prints the first n primes\n",
    "def firstPrimes(n):\n",
    "    list_primes = []\n",
    "    number = 0\n",
    "    counter = 0\n",
    "    while counter < n:\n",
    "        if (is_prime(number)):\n",
    "            list_primes.append(number)\n",
    "            counter += 1\n",
    "            number += 1\n",
    "        else:\n",
    "            number += 1\n",
    "    return list_primes\n",
    "\n",
    "firstPrimes(14)"
   ]
  },
  {
   "cell_type": "markdown",
   "id": "737d746e",
   "metadata": {},
   "source": [
    "### Exercise 4.6: List comprehensions"
   ]
  },
  {
   "cell_type": "code",
   "execution_count": 17,
   "id": "38379777",
   "metadata": {},
   "outputs": [
    {
     "name": "stdout",
     "output_type": "stream",
     "text": [
      "[[1, 4], [1, 5], [1, 6], [2, 4], [2, 5], [2, 6], [3, 4], [3, 5], [3, 6]]\n"
     ]
    }
   ],
   "source": [
    "#a)Generate a list with elements [i,j].\n",
    "#The comprehensions list combines two simple lists in a complex list of lists.\n",
    "x = [1,2,3]\n",
    "y = [4,5,6]\n",
    "\n",
    "combine_list = [[i, j] for i in x for j in y]\n",
    "print(combine_list)"
   ]
  },
  {
   "cell_type": "code",
   "execution_count": 18,
   "id": "e8e90016",
   "metadata": {},
   "outputs": [
    {
     "name": "stdout",
     "output_type": "stream",
     "text": [
      "[[1, 4], [1, 5], [1, 6], [2, 4], [2, 5], [2, 6], [3, 4], [3, 5], [3, 6]]\n"
     ]
    }
   ],
   "source": [
    "#b)Generate a list with elements [i,j] with i < j\n",
    "x = [1,2,3]\n",
    "y = [4,5,6]\n",
    "\n",
    "combine_list = [[i, j] for i in x for j in y if (i<j)]\n",
    "print(combine_list)"
   ]
  },
  {
   "cell_type": "code",
   "execution_count": 19,
   "id": "1dd325d7",
   "metadata": {},
   "outputs": [
    {
     "name": "stdout",
     "output_type": "stream",
     "text": [
      "[12, 18, 24, 24, 30]\n"
     ]
    }
   ],
   "source": [
    "#c)Generate a list with elements i + j with both i and j prime and i > j.\n",
    "x = [1,2,3,7,13,19]\n",
    "y = [4,5,6,41,42,99,11]\n",
    "\n",
    "#The is_prime() function in section 4.5 is used.\n",
    "combine_list = [(i+j) for i in x for j in y if (i>j and is_prime(i) and is_prime(j))]\n",
    "print(combine_list)"
   ]
  },
  {
   "cell_type": "markdown",
   "id": "88933a96",
   "metadata": {},
   "source": [
    "### Exercise 4.7: Filter"
   ]
  },
  {
   "cell_type": "code",
   "execution_count": 20,
   "id": "08aad761",
   "metadata": {},
   "outputs": [
    {
     "name": "stdout",
     "output_type": "stream",
     "text": [
      "[4, 12, 18]\n"
     ]
    }
   ],
   "source": [
    "numbers = [4, 5, 12, 18, 19]\n",
    "def my_filter(number):\n",
    "    if(number %2 == 0):\n",
    "        return number\n",
    "\n",
    "lst = [i for i in numbers if my_filter(i)]\n",
    "print(lst)"
   ]
  },
  {
   "cell_type": "markdown",
   "id": "a94838f6",
   "metadata": {},
   "source": [
    "### Exercise 4.8: Flatten a list of lists"
   ]
  },
  {
   "cell_type": "code",
   "execution_count": 21,
   "id": "9b01a58b",
   "metadata": {},
   "outputs": [
    {
     "name": "stdout",
     "output_type": "stream",
     "text": [
      "[1, 2, 2, 3, 4, 5, 6, 7, 8, 9]\n"
     ]
    }
   ],
   "source": [
    "#Consider having a list with lists as elements, e.g. [[1,3], [3,6]].\n",
    "#Write a function that takes such a list, and returns a list with as elements the elements of the sublists, e.g. [1, 3, 3, 6].\n",
    "\n",
    "def flatten(listoflist):\n",
    "    new_list = []\n",
    "    for i in listoflist:\n",
    "        for element in i:\n",
    "            new_list.append(element)\n",
    "    return new_list\n",
    "\n",
    "lst = [[1, 2, 2], [3, 4, 5], [6, 7, 8, 9]]\n",
    "print(flatten(lst))"
   ]
  },
  {
   "cell_type": "markdown",
   "id": "c7bac47c",
   "metadata": {},
   "source": [
    "### Exercise 4.9: Finding the longest word"
   ]
  },
  {
   "cell_type": "code",
   "execution_count": 23,
   "id": "7c241ff2",
   "metadata": {},
   "outputs": [
    {
     "data": {
      "text/plain": [
       "'football'"
      ]
     },
     "execution_count": 23,
     "metadata": {},
     "output_type": "execute_result"
    }
   ],
   "source": [
    "import re\n",
    "\n",
    "def longest_word(string):\n",
    "    word_pattern = \"\\w+\"\n",
    "    regex = re.compile(word_pattern)\n",
    "    words_found = regex.findall(string)\n",
    "\n",
    "    if words_found:\n",
    "        longest_word = max(words_found, key=lambda word: len(word))\n",
    "    return longest_word\n",
    "\n",
    "sentence = \"Hello, how was the football match earlier today???????”\"\n",
    "longest_word(sentence)"
   ]
  },
  {
   "cell_type": "markdown",
   "id": "e5fc9341",
   "metadata": {},
   "source": [
    "### Exercise 4.10: Collatz sequence, part 2"
   ]
  },
  {
   "cell_type": "code",
   "execution_count": 28,
   "id": "e44a5988",
   "metadata": {},
   "outputs": [
    {
     "data": {
      "text/plain": [
       "[100.0,\n",
       " 50.0,\n",
       " 25.0,\n",
       " 76.0,\n",
       " 38.0,\n",
       " 19.0,\n",
       " 58.0,\n",
       " 29.0,\n",
       " 88.0,\n",
       " 44.0,\n",
       " 22.0,\n",
       " 11.0,\n",
       " 34.0,\n",
       " 17.0,\n",
       " 52.0,\n",
       " 26.0,\n",
       " 13.0,\n",
       " 40.0,\n",
       " 20.0,\n",
       " 10.0,\n",
       " 5.0,\n",
       " 16.0,\n",
       " 8.0,\n",
       " 4.0,\n",
       " 2.0,\n",
       " 1.0]"
      ]
     },
     "execution_count": 28,
     "metadata": {},
     "output_type": "execute_result"
    }
   ],
   "source": [
    "#Recall the Collatz sequence problem from Section 1. Our goal is to find the number n < 1, 000, 000 that\n",
    "#leads to the longest Collatz sequence.\n",
    "\n",
    "#a) Write a function that for any n, returns its Collatz sequence as a list\n",
    "def collatz(collatz):\n",
    "    if(collatz > 1000000):\n",
    "        return\n",
    "    collatzList = []\n",
    "    while (collatz != 1):\n",
    "    # Checking if the number is even\n",
    "        if (collatz % 2 == 0): \n",
    "            collatz = collatz / 2\n",
    "            collatzList.append(collatz)\n",
    "        else :\n",
    "            collatz = 3 * collatz + 1\n",
    "            collatzList.append(collatz)\n",
    "    return collatzList\n",
    "\n",
    "collatz(200)"
   ]
  },
  {
   "cell_type": "markdown",
   "id": "6a820d95",
   "metadata": {},
   "source": [
    "### Exercise 4.11: Pivots"
   ]
  },
  {
   "cell_type": "code",
   "execution_count": 29,
   "id": "026719fe",
   "metadata": {},
   "outputs": [
    {
     "data": {
      "text/plain": [
       "[2, 3, 4, 5, 9, 11]"
      ]
     },
     "execution_count": 29,
     "metadata": {},
     "output_type": "execute_result"
    }
   ],
   "source": [
    "def pivots(x, ys):\n",
    "    ys.sort()\n",
    "    for num in ys:\n",
    "        if (num >= x):\n",
    "            ys.insert(ys.index(num), x)\n",
    "            return ys\n",
    "    return []\n",
    "\n",
    "lst = [4,2,9,11,5]\n",
    "pivots(3,lst)"
   ]
  },
  {
   "cell_type": "markdown",
   "id": "a12e03c4",
   "metadata": {},
   "source": [
    "### Exercise 4.12: Prime challenge"
   ]
  },
  {
   "cell_type": "code",
   "execution_count": 30,
   "id": "cf8afc04",
   "metadata": {},
   "outputs": [
    {
     "name": "stdout",
     "output_type": "stream",
     "text": [
      "[2, 3, 5, 7, 11, 13, 17, 19]\n"
     ]
    }
   ],
   "source": [
    "primes = lambda n: [i for i in range (2, n) if (is_prime(i))]\n",
    "\n",
    "print(primes(20))"
   ]
  },
  {
   "cell_type": "markdown",
   "id": "0c29fe44",
   "metadata": {},
   "source": [
    "# 5 Tuples"
   ]
  },
  {
   "cell_type": "markdown",
   "id": "f417242d",
   "metadata": {},
   "source": [
    "### Exercise 5.1: Swapping two values"
   ]
  },
  {
   "cell_type": "code",
   "execution_count": 31,
   "id": "1b524486",
   "metadata": {},
   "outputs": [
    {
     "name": "stdout",
     "output_type": "stream",
     "text": [
      "a:  10\n",
      "b:  2\n"
     ]
    }
   ],
   "source": [
    "a=2\n",
    "b=10\n",
    "\n",
    "a, b = b, a\n",
    "print(\"a: \",a)\n",
    "print(\"b: \",b)"
   ]
  },
  {
   "cell_type": "markdown",
   "id": "adb46193",
   "metadata": {},
   "source": [
    "### Exercise 5.2: Zip"
   ]
  },
  {
   "cell_type": "code",
   "execution_count": 32,
   "id": "f97dd6ca",
   "metadata": {},
   "outputs": [
    {
     "name": "stdout",
     "output_type": "stream",
     "text": [
      "[(1, 5), (2, 6), (3, 7), (4, 8)]\n"
     ]
    }
   ],
   "source": [
    "#Suppose we have two lists, x and y that give the x and y coordinates of a set of points.\n",
    "#Create a list with the coordinates (x,y) as a tuple.\n",
    "x= [1 ,2 ,3 ,4]\n",
    "y = [5, 6, 7, 8]\n",
    "list_tuple = list(zip(x,y))\n",
    "print(list_tuple)"
   ]
  },
  {
   "cell_type": "code",
   "execution_count": 33,
   "id": "f0aa7f82",
   "metadata": {},
   "outputs": [
    {
     "name": "stdout",
     "output_type": "stream",
     "text": [
      "x:  [1, 2, 3, 4]\n",
      "y:  [5, 6, 7, 8]\n"
     ]
    }
   ],
   "source": [
    "#How can we use zip to unzip the list of tuples to get two lists again?\n",
    "x, y = map(list, zip(*list_tuple))\n",
    "print(\"x: \", x)\n",
    "print(\"y: \", y)"
   ]
  },
  {
   "cell_type": "markdown",
   "id": "623879bd",
   "metadata": {},
   "source": [
    "### Exercise 5.3: Distances"
   ]
  },
  {
   "cell_type": "code",
   "execution_count": 36,
   "id": "0685b22d",
   "metadata": {},
   "outputs": [
    {
     "name": "stdout",
     "output_type": "stream",
     "text": [
      "l1: 14\n",
      "l2: 7.8545690599515865\n"
     ]
    }
   ],
   "source": [
    "import math as math\n",
    "# L1 norm: It is calculated as the sum of the absolute values of the vector.\n",
    "# L2 norm: It is calculated as the square root of the sum of the squared vector values.\n",
    "def l1(x,y):\n",
    "    return abs(sum(x)-sum(y))\n",
    "\n",
    "def l2(x,y):\n",
    "    sum_x = 0\n",
    "    sum_y = 0\n",
    "   \n",
    "    for i in range(len(x)):\n",
    "        sum_x = sum_x + pow(x[i],2)\n",
    "        sum_y = sum_y + pow(y[i],2)\n",
    "    return abs(math.sqrt(sum_x)- math.sqrt(sum_y))\n",
    "\n",
    "x = [8,10,12]\n",
    "y = [7,3,6]\n",
    "print(f\"l1: {l1(x,y)}\")\n",
    "print(f\"l2: {l2(x,y)}\")"
   ]
  },
  {
   "cell_type": "markdown",
   "id": "6682041c",
   "metadata": {},
   "source": [
    "# 6 Dictionaries\n"
   ]
  },
  {
   "cell_type": "markdown",
   "id": "9a6644eb",
   "metadata": {},
   "source": [
    "### Exercise 6.1: Printing a dictionary"
   ]
  },
  {
   "cell_type": "code",
   "execution_count": 37,
   "id": "4436796e",
   "metadata": {},
   "outputs": [
    {
     "name": "stdout",
     "output_type": "stream",
     "text": [
      "a :  1\n",
      "b :  2\n",
      "c :  3\n"
     ]
    }
   ],
   "source": [
    "#Write a function that prints key-value pairs of a dictionary.\n",
    "def print_dictionary(dict):\n",
    "    for key, value in dict.items():\n",
    "        print (key, \": \",value)\n",
    "        \n",
    "dictionary = {\"a\": 1, \"b\": 2, \"c\": 3}\n",
    "print_dictionary(dictionary)"
   ]
  },
  {
   "cell_type": "markdown",
   "id": "655ac54d",
   "metadata": {},
   "source": [
    "### Exercise 6.2: Histogram"
   ]
  },
  {
   "cell_type": "code",
   "execution_count": 38,
   "id": "d45eb1ce",
   "metadata": {},
   "outputs": [
    {
     "name": "stdout",
     "output_type": "stream",
     "text": [
      "{'a': 3, 'b': 2, 'c': 1, 'd': 3}\n"
     ]
    }
   ],
   "source": [
    "def histogram(lst):\n",
    "    dictionary = {};\n",
    "    for i in lst:\n",
    "        if i in dictionary:\n",
    "            dictionary[i] += 1\n",
    "        else:\n",
    "            dictionary[i] = 1\n",
    "    print (dictionary)\n",
    " \n",
    "lst =[\"a\",\"a\",\"b\",\"c\",\"a\",\"d\",\"b\",\"d\",\"d\"]\n",
    "histogram(lst)"
   ]
  },
  {
   "cell_type": "code",
   "execution_count": 39,
   "id": "7a1bd3c9",
   "metadata": {},
   "outputs": [
    {
     "data": {
      "text/plain": [
       "Counter({'a': 3, 'b': 2, 'c': 1, 'd': 3})"
      ]
     },
     "execution_count": 39,
     "metadata": {},
     "output_type": "execute_result"
    }
   ],
   "source": [
    "#Using a counter:\n",
    "from collections import Counter\n",
    "\n",
    "def counter(lst):\n",
    "    return Counter(lst)\n",
    "\n",
    "lst =[\"a\",\"a\",\"b\",\"c\",\"a\",\"d\",\"b\",\"d\",\"d\"]\n",
    "counter(lst)\n",
    "\n",
    "#This way is easier and shorter than the other way."
   ]
  },
  {
   "cell_type": "markdown",
   "id": "adb82033",
   "metadata": {},
   "source": [
    "### Exercise 6.3: Get method"
   ]
  },
  {
   "cell_type": "code",
   "execution_count": 40,
   "id": "8267adfb",
   "metadata": {},
   "outputs": [
    {
     "data": {
      "text/plain": [
       "{'a': 3, 'b': 2, 'c': 1, 'd': 3}"
      ]
     },
     "execution_count": 40,
     "metadata": {},
     "output_type": "execute_result"
    }
   ],
   "source": [
    "#Rewrite your code from the previous problem to make use of this get method\n",
    "def dict_get(lst):\n",
    "    counter = {}\n",
    "    for i in lst:\n",
    "        counter[i] = counter.get(i, 0) + 1\n",
    "    return counter\n",
    "\n",
    "lst =[\"a\",\"a\",\"b\",\"c\",\"a\",\"d\",\"b\",\"d\",\"d\"]\n",
    "dict_get(lst)"
   ]
  },
  {
   "cell_type": "markdown",
   "id": "dfa9b5de",
   "metadata": {},
   "source": [
    "### Exercise 6.4: Random text generator"
   ]
  },
  {
   "cell_type": "code",
   "execution_count": 57,
   "id": "1bf1b9e3",
   "metadata": {},
   "outputs": [
    {
     "name": "stdout",
     "output_type": "stream",
     "text": [
      "Or hear the street. \n"
     ]
    }
   ],
   "source": [
    "import random\n",
    "import sys\n",
    "\n",
    "def process_line(line):\n",
    "    '''\n",
    "    Process a line of text to extract (state, new_word) pairs.\n",
    "    Note that we remove uppercase letters in this example, though\n",
    "    you don't have to.\n",
    "\n",
    "    Example:\n",
    "    process_line(\"In winter I get up at night\") =\n",
    "    [('BEGIN', 'in'),\n",
    "     ('in', 'winter'),\n",
    "     ('winter', 'i'),\n",
    "     ('i', 'get'),\n",
    "     ('get', 'up'),\n",
    "     ('up', 'at'),\n",
    "     ('at', 'night'),\n",
    "     ('night', 'END')]\n",
    "\n",
    "    We add the BEGIN and END keywords so that we can initialize the\n",
    "    sentence and know when the line ends.\n",
    "    '''\n",
    "    \n",
    "    lines = line.split()\n",
    "    lst = []\n",
    "    \n",
    "    \n",
    "    for i in range(len(lines)):\n",
    "        if i == 0:\n",
    "            lst.append(('BEGIN',lines[i]))\n",
    "            lst.append((lines[i],lines[i+1]))\n",
    "        elif i == (len(lines) - 1):\n",
    "            lst.append((lines[i],'END'))\n",
    "        else:\n",
    "            lst.append((lines[i],lines[i+1]))\n",
    "    \n",
    "    return lst\n",
    "\n",
    "def process_textfile(filename):\n",
    "    '''\n",
    "    Creates a dictionary with transition pairs\n",
    "    based on a file provided\n",
    "\n",
    "    For the first part of the assignment, we use a\n",
    "    placeholder text that you will have to replace\n",
    "    at some point.\n",
    "\n",
    "    Based on the placeholder text, the dictionary\n",
    "    should contain the following key-value pairs:\n",
    "\n",
    "    'blue,': ['END']\n",
    "    'by': ['yellow', 'day.', 'day?']\n",
    "    'still': ['hopping', 'going']\n",
    "    '''\n",
    "    d = {}\n",
    "\n",
    "    # Placeholder until we add File I/O in part two\n",
    "    # Overwrite the following lines with your code:\n",
    "    f = '''In winter I get up at night\n",
    "And dress by yellow candle-light.\n",
    "In summer quite the other way,\n",
    "I have to go to bed by day.\n",
    "\n",
    "I have to go to bed and see\n",
    "The birds still hopping on the tree,\n",
    "Or hear the grown-up people's feet\n",
    "Still going past me in the street.\n",
    "\n",
    "And does it not seem hard to you,\n",
    "When all the sky is clear and blue,\n",
    "And I should like so much to play,\n",
    "To have to go to bed by day?\n",
    "'''.split('\\n')\n",
    "    for line in f:\n",
    "        tuples = process_line(line)\n",
    "        for tuple in tuples:\n",
    "            word = d.get(tuple[0],[])\n",
    "            if word:\n",
    "                word.append(tuple[1])\n",
    "            else:\n",
    "                word.append(tuple[1])\n",
    "                d[tuple[0]] = word\n",
    "    return d\n",
    "\n",
    "def generate_line(d):\n",
    "    '''\n",
    "    Generates a random sentence based on the dictionary\n",
    "    with transition pairs\n",
    "\n",
    "    Note that the first state is BEGIN but that we\n",
    "    obviously do not want to return BEGIN\n",
    "\n",
    "    Some sample output based on the placeholder text:\n",
    "    'i have to go to go to go to go to play,'\n",
    "\n",
    "    Hint: use random.choice to select a random element from a list\n",
    "    '''\n",
    "    sentence = ''\n",
    "\n",
    "    current_word = 'BEGIN'\n",
    "    \n",
    "    while True:\n",
    "        next_word_list = d[current_word]\n",
    "        index = random.randint(0,len(next_word_list)-1)\n",
    "        next_word = next_word_list[index]\n",
    "        if next_word != 'END':\n",
    "            sentence = sentence + next_word + ' '\n",
    "        current_word = next_word\n",
    "        if current_word == 'END':\n",
    "            break\n",
    "\n",
    "    return sentence\n",
    "\n",
    "\n",
    "d = process_textfile('')\n",
    "print(generate_line(d))"
   ]
  },
  {
   "cell_type": "markdown",
   "id": "a9eaf698",
   "metadata": {},
   "source": [
    "### Exercise 6.5: Vector functions"
   ]
  },
  {
   "cell_type": "code",
   "execution_count": 47,
   "id": "f4757a70",
   "metadata": {},
   "outputs": [
    {
     "data": {
      "text/plain": [
       "{0: 6, 1: 19, 2: 12}"
      ]
     },
     "execution_count": 47,
     "metadata": {},
     "output_type": "execute_result"
    }
   ],
   "source": [
    "#a)Write a function that adds two (dense) vectors\n",
    "\n",
    "def add_vectors(v1, v2):\n",
    "    dictionary = {}\n",
    "    if (len(v1)!=len(v2)):\n",
    "        return;\n",
    "    for key in v1:\n",
    "        dictionary[key] = v1[key] + v2[key]\n",
    "    return dictionary\n",
    "        \n",
    "v1 = {0:5, 1: 17, 2: 8}\n",
    "v2= {0:1, 1: 2, 2: 4}\n",
    "add_vectors(v1, v2)"
   ]
  },
  {
   "cell_type": "code",
   "execution_count": 48,
   "id": "db497d5e",
   "metadata": {},
   "outputs": [
    {
     "data": {
      "text/plain": [
       "71"
      ]
     },
     "execution_count": 48,
     "metadata": {},
     "output_type": "execute_result"
    }
   ],
   "source": [
    "#b)Write a function that multiplies (i.e. inner product) two (dense) vectors\n",
    "\n",
    "def inner_product_vectors(v1, v2):\n",
    "    dictionary = {}\n",
    "    result = 0\n",
    "    if (len(v1)!=len(v2)):\n",
    "        return;\n",
    "    for key in v1:\n",
    "        dictionary[key] = v1[key] * v2[key]\n",
    "        result +=  dictionary[key]\n",
    "    return result\n",
    "        \n",
    "v1 = {0:5, 1: 17, 2: 8}\n",
    "v2= {0:1, 1: 2, 2: 4}\n",
    "inner_product_vectors(v1, v2)"
   ]
  },
  {
   "cell_type": "code",
   "execution_count": 49,
   "id": "a9742c5d",
   "metadata": {},
   "outputs": [
    {
     "data": {
      "text/plain": [
       "{0: 6, 1: 17, 2: 12}"
      ]
     },
     "execution_count": 49,
     "metadata": {},
     "output_type": "execute_result"
    }
   ],
   "source": [
    "#c)Write a function that adds two sparse vectors\n",
    "\n",
    "def add_sparse_vectors(v1, v2):\n",
    "    dictionary = {}\n",
    "    if (len(v1)!=len(v2)):\n",
    "        return;\n",
    "    for key in v1:\n",
    "        result = v1[key] + v2[key]\n",
    "        if(result != 0):\n",
    "            dictionary[key] = result\n",
    "    return dictionary\n",
    "\n",
    "v1 = {0:5, 1: 17, 2: 8, 3: 0}\n",
    "v2= {0:1, 1: 0, 2: 4, 3: 0}\n",
    "add_sparse_vectors(v1, v2)"
   ]
  },
  {
   "cell_type": "code",
   "execution_count": 50,
   "id": "125c5005",
   "metadata": {},
   "outputs": [
    {
     "data": {
      "text/plain": [
       "{0: 5, 2: 32}"
      ]
     },
     "execution_count": 50,
     "metadata": {},
     "output_type": "execute_result"
    }
   ],
   "source": [
    "#d)Write a function that multiplies two sparse vectors\n",
    "\n",
    "def multiply_sparse_vectors(v1, v2):\n",
    "    dictionary = {}\n",
    "    if (len(v1)!=len(v2)):\n",
    "        return;\n",
    "    for key in v1:\n",
    "        result = v1[key] * v2[key]\n",
    "        if(result != 0):\n",
    "            dictionary[key] = result\n",
    "    return dictionary\n",
    "\n",
    "v1 = {0:5, 1: 17, 2: 8, 3: 0}\n",
    "v2= {0:1, 1: 0, 2: 4, 3: 0}\n",
    "multiply_sparse_vectors(v1, v2)"
   ]
  },
  {
   "cell_type": "code",
   "execution_count": 51,
   "id": "2333c89f",
   "metadata": {},
   "outputs": [
    {
     "data": {
      "text/plain": [
       "{0: 5, 1: 4, 2: 7, 3: 1, 4: 6, 5: 12}"
      ]
     },
     "execution_count": 51,
     "metadata": {},
     "output_type": "execute_result"
    }
   ],
   "source": [
    "#e)Write a function that adds a sparse vector and a dense vector\n",
    "def dictionary_get(dictionary,key,default):\n",
    "    if(key in dictionary):\n",
    "        return dictionary[key]\n",
    "    else:\n",
    "        return default\n",
    "    \n",
    "def add_sparse_dense(sparse,dense):\n",
    "    dictionary = {}\n",
    "    sparse_size = list(sparse.keys())[-1]\n",
    "    count = len(dense) if len(dense) > sparse_size else sparse_size\n",
    "    for index in range(count):\n",
    "        sum = dictionary_get(sparse,index,0) + dictionary_get(dense,index,0)\n",
    "        if(sum != 0):\n",
    "             dictionary[index] = sum\n",
    "    return dictionary\n",
    "\n",
    "sparse = {0:1, 4:6, 5:3, 8:1}\n",
    "\n",
    "dense = {0:4, 1:4, 2:7, 3:1, 4:0, 5:9}\n",
    "\n",
    "add_sparse_dense(sparse,dense)"
   ]
  },
  {
   "cell_type": "code",
   "execution_count": 54,
   "id": "ec8b7407",
   "metadata": {},
   "outputs": [
    {
     "data": {
      "text/plain": [
       "{0: 2, 2: 4, 5: 21}"
      ]
     },
     "execution_count": 54,
     "metadata": {},
     "output_type": "execute_result"
    }
   ],
   "source": [
    "#f)Write a function that multiplies a sparse vector and a dense vector\n",
    "\n",
    "def multiply_sparse_dense(sparse,dense):\n",
    "    dictionary = {}\n",
    "    sparse_size = list(sparse.keys())[-1]\n",
    "    count = len(dense) if len(dense) > sparse_size else sparse_size\n",
    "    for index in range(count):\n",
    "        result = dictionary_get(sparse,index,0) * dictionary_get(dense,index,0)\n",
    "        if(result != 0):\n",
    "             dictionary[index] = result\n",
    "    return dictionary\n",
    "\n",
    "sparse = {0:1, 2:4, 5:7}\n",
    "\n",
    "dense = {0:2, 1:5, 2:1, 3:9, 4:1, 5:3, 6:8}\n",
    "\n",
    "multiply_sparse_dense(sparse,dense)"
   ]
  },
  {
   "cell_type": "markdown",
   "id": "302df8d6",
   "metadata": {},
   "source": [
    "### Exercise 6.6: Reverse look-up"
   ]
  },
  {
   "cell_type": "code",
   "execution_count": 55,
   "id": "af9760f0",
   "metadata": {},
   "outputs": [
    {
     "data": {
      "text/plain": [
       "'fruit'"
      ]
     },
     "execution_count": 55,
     "metadata": {},
     "output_type": "execute_result"
    }
   ],
   "source": [
    "def reverse_look_up(dictionary, queried_value):\n",
    "    for key, value in dictionary.items():\n",
    "        if (value == queried_value):\n",
    "            return key\n",
    "            \n",
    "dictionary = {\"color\":\"pink\", \"animal\":\"cat\", \"fruit\": \"apple\", \"vegetable\":\"tomato\"}\n",
    "reverse_look_up(dictionary, \"apple\")"
   ]
  }
 ],
 "metadata": {
  "kernelspec": {
   "display_name": "Python 3 (ipykernel)",
   "language": "python",
   "name": "python3"
  },
  "language_info": {
   "codemirror_mode": {
    "name": "ipython",
    "version": 3
   },
   "file_extension": ".py",
   "mimetype": "text/x-python",
   "name": "python",
   "nbconvert_exporter": "python",
   "pygments_lexer": "ipython3",
   "version": "3.9.7"
  }
 },
 "nbformat": 4,
 "nbformat_minor": 5
}
